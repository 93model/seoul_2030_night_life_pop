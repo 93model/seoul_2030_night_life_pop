{
  "nbformat": 4,
  "nbformat_minor": 0,
  "metadata": {
    "colab": {
      "name": "party_street_in_seoul_data_analysis.ipynb",
      "private_outputs": true,
      "provenance": [],
      "collapsed_sections": [],
      "mount_file_id": "1_Q8q2hea8-SiKQxl2YbqST-z8iYcDNh8",
      "authorship_tag": "ABX9TyNcNADv/S/f01f4381n3tnX",
      "include_colab_link": true
    },
    "kernelspec": {
      "name": "python3",
      "display_name": "Python 3"
    },
    "language_info": {
      "name": "python"
    }
  },
  "cells": [
    {
      "cell_type": "markdown",
      "metadata": {
        "id": "view-in-github",
        "colab_type": "text"
      },
      "source": [
        "<a href=\"https://colab.research.google.com/github/93model/seoul_2030_night_life_pop/blob/main/seoul_2030_night_life_data_analysis.ipynb\" target=\"_parent\"><img src=\"https://colab.research.google.com/assets/colab-badge.svg\" alt=\"Open In Colab\"/></a>"
      ]
    },
    {
      "cell_type": "code",
      "source": [
        "import pandas as pd\n",
        "import numpy as np\n",
        "import seaborn as sns\n",
        "import matplotlib.pyplot as plt"
      ],
      "metadata": {
        "id": "m07-Xi8wfG0v"
      },
      "execution_count": null,
      "outputs": []
    },
    {
      "cell_type": "code",
      "source": [
        "# 폰트 설정이 잘 안 된다면 해당 셀의 마지막 줄 주석을 풀고 실행해 보세요.\n",
        "# colab 사용시에도 아래 함수를 활용해 보세요.\n",
        "def get_font_family():\n",
        "    \"\"\"\n",
        "    시스템 환경에 따른 기본 폰트명을 반환하는 함수\n",
        "    \"\"\"\n",
        "    import platform\n",
        "    system_name = platform.system()\n",
        "\n",
        "    if system_name == \"Darwin\" :\n",
        "        font_family = \"AppleGothic\"\n",
        "    elif system_name == \"Windows\":\n",
        "        font_family = \"Malgun Gothic\"\n",
        "    else:\n",
        "        # Linux(colab)\n",
        "        !apt-get install fonts-nanum -qq  > /dev/null\n",
        "        !fc-cache -fv\n",
        "\n",
        "        import matplotlib as mpl\n",
        "        mpl.font_manager._rebuild()\n",
        "        findfont = mpl.font_manager.fontManager.findfont\n",
        "        mpl.font_manager.findfont = findfont\n",
        "        mpl.backends.backend_agg.findfont = findfont\n",
        "        \n",
        "        font_family = \"NanumBarunGothic\"\n",
        "    return font_family\n",
        "\n",
        "plt.rc(\"font\", family=get_font_family())"
      ],
      "metadata": {
        "id": "C08koQATCRLx"
      },
      "execution_count": null,
      "outputs": []
    },
    {
      "cell_type": "code",
      "source": [
        "# Win\n",
        "# plt.rc(\"font\", family=\"Malgun Gothic\")\n",
        "# Mac\n",
        "# plt.rc(\"font\", family=\"AppleGothic\")\n",
        "plt.rc(\"axes\", unicode_minus=False)\n",
        "\n",
        "# 폰트가 선명하게 보이도록 설정\n",
        "\n",
        "from IPython.display import set_matplotlib_formats\n",
        "\n",
        "set_matplotlib_formats(\"retina\")"
      ],
      "metadata": {
        "id": "ey8h-IVsCWB1"
      },
      "execution_count": null,
      "outputs": []
    },
    {
      "cell_type": "markdown",
      "source": [
        "1. 데이터 로드 \n"
      ],
      "metadata": {
        "id": "KYEZmAAeBFCD"
      }
    },
    {
      "cell_type": "markdown",
      "source": [
        "1.1 행정동별 8월 생활인구 평균(시간,날짜)"
      ],
      "metadata": {
        "id": "EIQcgb97FX8B"
      }
    },
    {
      "cell_type": "code",
      "source": [
        "from google.colab import drive\n",
        "drive.mount('/content/drive/')"
      ],
      "metadata": {
        "id": "r9-EZSQMztH-"
      },
      "execution_count": null,
      "outputs": []
    },
    {
      "cell_type": "code",
      "source": [
        "life_pop_df = pd.read_csv(\"/content/drive/MyDrive/Colab Notebooks/CS_AI_10/NP_1/LOCAL_PEOPLE_20220812.csv\", encoding='cp949')\n",
        "life_pop_df"
      ],
      "metadata": {
        "id": "gWX9wFXiFXq2"
      },
      "execution_count": null,
      "outputs": []
    },
    {
      "cell_type": "code",
      "source": [
        "life_pop_df.columns"
      ],
      "metadata": {
        "id": "6wFKn-_LzXWo"
      },
      "execution_count": null,
      "outputs": []
    },
    {
      "cell_type": "code",
      "source": [
        "life_pop_df_columns  = ['시간대구분', '행정동코드', '집계구코드', '총생활인구수',\n",
        "                        '남자20세부터24세생활인구수', '남자25세부터29세생활인구수', '남자30세부터34세생활인구수', '남자35세부터39세생활인구수',\n",
        "                        '여자20세부터24세생활인구수', '여자25세부터29세생활인구수', '여자30세부터34세생활인구수', '여자35세부터39세생활인구수' ]"
      ],
      "metadata": {
        "id": "mj_ogG3S2XfP"
      },
      "execution_count": null,
      "outputs": []
    },
    {
      "cell_type": "code",
      "source": [
        "life_pop_df = life_pop_df[life_pop_df_columns ]\n",
        "life_pop_df"
      ],
      "metadata": {
        "id": "6QV9I0xF3tic"
      },
      "execution_count": null,
      "outputs": []
    },
    {
      "cell_type": "code",
      "source": [
        "life_pop_df_1 = life_pop_df.replace(\"*\", np.NaN)\n",
        "life_pop_df_1 "
      ],
      "metadata": {
        "id": "FXoTFtPGPjxI"
      },
      "execution_count": null,
      "outputs": []
    },
    {
      "cell_type": "code",
      "source": [
        "life_pop_df_1.info()"
      ],
      "metadata": {
        "id": "IMpvtJqZW5CI"
      },
      "execution_count": null,
      "outputs": []
    },
    {
      "cell_type": "code",
      "source": [
        "life_pop_df_1['남자20세부터24세생활인구수']= pd.to_numeric(life_pop_df_1['남자20세부터24세생활인구수'])"
      ],
      "metadata": {
        "id": "uhVykR4a6j0h"
      },
      "execution_count": null,
      "outputs": []
    },
    {
      "cell_type": "code",
      "source": [
        "life_pop_df_1[['시간대구분', '행정동코드', '집계구코드', '총생활인구수',\n",
        "                        '남자20세부터24세생활인구수', '남자25세부터29세생활인구수', '남자30세부터34세생활인구수', '남자35세부터39세생활인구수',\n",
        "                        '여자20세부터24세생활인구수', '여자25세부터29세생활인구수', '여자30세부터34세생활인구수', '여자35세부터39세생활인구수' ]] =life_pop_df_1[['시간대구분',\n",
        "                        '행정동코드', '집계구코드', '총생활인구수',\n",
        "                        '남자20세부터24세생활인구수', '남자25세부터29세생활인구수', '남자30세부터34세생활인구수', '남자35세부터39세생활인구수',\n",
        "                        '여자20세부터24세생활인구수', '여자25세부터29세생활인구수', '여자30세부터34세생활인구수', '여자35세부터39세생활인구수' ]].apply(pd.to_numeric)"
      ],
      "metadata": {
        "id": "OPZVCKl28q9V"
      },
      "execution_count": null,
      "outputs": []
    },
    {
      "cell_type": "code",
      "source": [
        "life_pop_df_2 = life_pop_df_1.dropna()\n",
        "life_pop_df_2 "
      ],
      "metadata": {
        "id": "VunS8kWL9QU_"
      },
      "execution_count": null,
      "outputs": []
    },
    {
      "cell_type": "code",
      "source": [
        "Time_con = (life_pop_df_2.시간대구분 <= 5) | (life_pop_df_2.시간대구분 >= 19) # 조건식 작성\n",
        "life_pop_df_3= life_pop_df_2[Time_con]\n",
        "life_pop_df_3 "
      ],
      "metadata": {
        "id": "QhOXuagz_fIA"
      },
      "execution_count": null,
      "outputs": []
    },
    {
      "cell_type": "code",
      "source": [
        "life_pop_df_3['2030_men'] = life_pop_df_3['남자20세부터24세생활인구수'] + life_pop_df_3['남자25세부터29세생활인구수'] + life_pop_df_3['남자30세부터34세생활인구수']  + life_pop_df_3['남자35세부터39세생활인구수'] \n",
        "life_pop_df_3['2030_women'] = life_pop_df_3['여자20세부터24세생활인구수'] + life_pop_df_3['여자25세부터29세생활인구수'] + life_pop_df_3['여자30세부터34세생활인구수']  + life_pop_df_3['여자35세부터39세생활인구수'] \n",
        "life_pop_df_3\n"
      ],
      "metadata": {
        "id": "7lQ6OqMtIHtF"
      },
      "execution_count": null,
      "outputs": []
    },
    {
      "cell_type": "code",
      "source": [
        "life_pop_df_men =pd.pivot_table(life_pop_df_3, index = ['행정동코드'],values = '2030_men',aggfunc = 'sum')\n",
        "life_pop_df_men.reset_index(inplace=True)\n",
        "life_pop_df_men"
      ],
      "metadata": {
        "id": "IIXqR7BQI4ZB"
      },
      "execution_count": null,
      "outputs": []
    },
    {
      "cell_type": "code",
      "source": [
        "life_pop_df_women =pd.pivot_table(life_pop_df_3, index = ['행정동코드'],values = '2030_women',aggfunc = 'sum')\n",
        "life_pop_df_women.reset_index(inplace=True)\n",
        "life_pop_df_women"
      ],
      "metadata": {
        "id": "uuhkcUZaJNo1"
      },
      "execution_count": null,
      "outputs": []
    },
    {
      "cell_type": "code",
      "source": [
        "life_pop_df_people =pd.pivot_table(life_pop_df_3, index = ['행정동코드'],values = '총생활인구수',aggfunc = 'sum')\n",
        "life_pop_df_people.reset_index(inplace=True)\n",
        "life_pop_df_people"
      ],
      "metadata": {
        "id": "RrDH4WdeykGe"
      },
      "execution_count": null,
      "outputs": []
    },
    {
      "cell_type": "code",
      "source": [
        "life_pop_dong_all=pd.merge(left = life_pop_df_men , right = life_pop_df_women, how = \"left\", on = \"행정동코드\")\n",
        "life_pop_dong_all_1= pd.merge(left = life_pop_dong_all , right = life_pop_df_people, how = \"left\", on = \"행정동코드\")\n",
        "life_pop_dong_all_1"
      ],
      "metadata": {
        "id": "42J7sYbPyumZ"
      },
      "execution_count": null,
      "outputs": []
    },
    {
      "cell_type": "code",
      "source": [
        "life_pop_dong_all_1['2030_poeple'] = life_pop_dong_all_1['2030_men'] + life_pop_dong_all_1['2030_women']\n",
        "life_pop_dong_all_1"
      ],
      "metadata": {
        "id": "1u_ylGePzfbS"
      },
      "execution_count": null,
      "outputs": []
    },
    {
      "cell_type": "code",
      "source": [
        "dong_df = pd.read_csv(\"/content/drive/MyDrive/Colab Notebooks/CS_AI_10/Cp1_1/행정동코드_매핑정보_2018_.csv\")\n",
        "dong_df"
      ],
      "metadata": {
        "id": "NXY6qatVFjTQ"
      },
      "execution_count": null,
      "outputs": []
    },
    {
      "cell_type": "code",
      "source": [
        "life_pop_dong_last=pd.merge(left = life_pop_dong_all_1 , right = dong_df, how = \"left\", on = \"행정동코드\")\n",
        "life_pop_dong_last.columns=['dong_code','2030men','2030women','all_people','2030_people','name']\n",
        "life_pop_dong_last"
      ],
      "metadata": {
        "id": "Qg3nQTBwFlv9"
      },
      "execution_count": null,
      "outputs": []
    },
    {
      "cell_type": "code",
      "source": [
        "life_pop_dong_last"
      ],
      "metadata": {
        "id": "KRO21XtrNG7-"
      },
      "execution_count": null,
      "outputs": []
    },
    {
      "cell_type": "code",
      "source": [
        "life_pop_dong_last['2030_chai'] = life_pop_dong_last['2030men'] - life_pop_dong_last['2030women']"
      ],
      "metadata": {
        "id": "7vXxee2bNMtG"
      },
      "execution_count": null,
      "outputs": []
    },
    {
      "cell_type": "code",
      "source": [
        "life_pop_dong_last"
      ],
      "metadata": {
        "id": "B36uDX1HRb7s"
      },
      "execution_count": null,
      "outputs": []
    },
    {
      "cell_type": "code",
      "source": [
        "life_pop_dong_last.to_csv('/content/drive/MyDrive/Colab Notebooks/CS_AI_10/NP_1/life_pop_dong_1.csv')"
      ],
      "metadata": {
        "id": "G3k1kpQq4hmN"
      },
      "execution_count": null,
      "outputs": []
    },
    {
      "cell_type": "code",
      "source": [
        ""
      ],
      "metadata": {
        "id": "vRIVOfP2NFTy"
      },
      "execution_count": null,
      "outputs": []
    },
    {
      "cell_type": "code",
      "source": [
        ""
      ],
      "metadata": {
        "id": "ALYxkv-I9a9a"
      },
      "execution_count": null,
      "outputs": []
    }
  ]
}